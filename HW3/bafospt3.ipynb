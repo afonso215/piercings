{
 "cells": [
  {
   "cell_type": "markdown",
   "metadata": {},
   "source": [
    " ## **HOMEWORK 2**\n",
    "\n",
    "Afonso Rosa, ist1106700<br>\n",
    "Leticia Vong, ist1105991"
   ]
  },
  {
   "cell_type": "markdown",
   "metadata": {},
   "source": [
    "**II. Programming and critical analysis** [8v]"
   ]
  },
  {
   "cell_type": "markdown",
   "metadata": {},
   "source": [
    "Consider the parkinsons.csv dataset (available at the course’s webpage), where the goal is to predict a patient’s score on the Unified Parkinson’s Disease Rating Scale based on various biomedical measurements.\n",
    "\n",
    "To answer question 5), average the performance of the models over 10 separate runs. In each run, use a different 80-20 train-test split by setting a random_state=i, with i=1..10.\n",
    "\n",
    "**5. [2v]** Train a Linear Regression model, an MLP Regressor with 2 hidden layers of 10 neurons each and no activation functions, and another MLP Regressor with 2 hidden layers of 10 neurons each using ReLU activation functions. (Use random_state=0 on the MLPs, regardless of the run). Plot a boxplot of the test MAE of each model."
   ]
  },
  {
   "cell_type": "code",
   "execution_count": 1,
   "metadata": {},
   "outputs": [
    {
     "name": "stderr",
     "output_type": "stream",
     "text": [
      "/home/afonso215/.local/lib/python3.10/site-packages/sklearn/neural_network/_multilayer_perceptron.py:690: ConvergenceWarning: Stochastic Optimizer: Maximum iterations (200) reached and the optimization hasn't converged yet.\n",
      "  warnings.warn(\n",
      "/home/afonso215/.local/lib/python3.10/site-packages/sklearn/neural_network/_multilayer_perceptron.py:690: ConvergenceWarning: Stochastic Optimizer: Maximum iterations (200) reached and the optimization hasn't converged yet.\n",
      "  warnings.warn(\n",
      "/home/afonso215/.local/lib/python3.10/site-packages/sklearn/neural_network/_multilayer_perceptron.py:690: ConvergenceWarning: Stochastic Optimizer: Maximum iterations (200) reached and the optimization hasn't converged yet.\n",
      "  warnings.warn(\n",
      "/home/afonso215/.local/lib/python3.10/site-packages/sklearn/neural_network/_multilayer_perceptron.py:690: ConvergenceWarning: Stochastic Optimizer: Maximum iterations (200) reached and the optimization hasn't converged yet.\n",
      "  warnings.warn(\n",
      "/home/afonso215/.local/lib/python3.10/site-packages/sklearn/neural_network/_multilayer_perceptron.py:690: ConvergenceWarning: Stochastic Optimizer: Maximum iterations (200) reached and the optimization hasn't converged yet.\n",
      "  warnings.warn(\n",
      "/home/afonso215/.local/lib/python3.10/site-packages/sklearn/neural_network/_multilayer_perceptron.py:690: ConvergenceWarning: Stochastic Optimizer: Maximum iterations (200) reached and the optimization hasn't converged yet.\n",
      "  warnings.warn(\n",
      "/home/afonso215/.local/lib/python3.10/site-packages/sklearn/neural_network/_multilayer_perceptron.py:690: ConvergenceWarning: Stochastic Optimizer: Maximum iterations (200) reached and the optimization hasn't converged yet.\n",
      "  warnings.warn(\n",
      "/home/afonso215/.local/lib/python3.10/site-packages/sklearn/neural_network/_multilayer_perceptron.py:690: ConvergenceWarning: Stochastic Optimizer: Maximum iterations (200) reached and the optimization hasn't converged yet.\n",
      "  warnings.warn(\n",
      "/home/afonso215/.local/lib/python3.10/site-packages/sklearn/neural_network/_multilayer_perceptron.py:690: ConvergenceWarning: Stochastic Optimizer: Maximum iterations (200) reached and the optimization hasn't converged yet.\n",
      "  warnings.warn(\n",
      "/home/afonso215/.local/lib/python3.10/site-packages/sklearn/neural_network/_multilayer_perceptron.py:690: ConvergenceWarning: Stochastic Optimizer: Maximum iterations (200) reached and the optimization hasn't converged yet.\n",
      "  warnings.warn(\n"
     ]
    },
    {
     "data": {
      "image/png": "[encoded data removed]",
      "text/plain": [
       "<Figure size 1000x600 with 1 Axes>"
      ]
     },
     "metadata": {},
     "output_type": "display_data"
    }
   ],
   "source": [
    "import pandas as pd\n",
    "from sklearn.model_selection import train_test_split\n",
    "from sklearn.linear_model import LinearRegression\n",
    "from sklearn.neural_network import MLPRegressor\n",
    "from sklearn.metrics import mean_absolute_error\n",
    "import matplotlib.pyplot as plt\n",
    "import seaborn as sns\n",
    "\n",
    "data = pd.read_csv('parkinsons.csv') \n",
    "\n",
    "X = data.drop(columns=['target']) \n",
    "y = data['target']\n",
    "\n",
    "mae_linear = []\n",
    "mae_mlp_no_activation = []\n",
    "mae_mlp_relu = []\n",
    "\n",
    "for i in range(1, 11):\n",
    "    X_train, X_test, y_train, y_test = train_test_split(X, y, test_size=0.2, random_state=i)\n",
    "    \n",
    "    linear_model = LinearRegression()\n",
    "    linear_model.fit(X_train, y_train)\n",
    "    y_pred_linear = linear_model.predict(X_test)\n",
    "    mae_linear.append(mean_absolute_error(y_test, y_pred_linear))\n",
    "    \n",
    "    mlp_no_activation = MLPRegressor(hidden_layer_sizes=(10, 10), activation='identity', random_state=0)\n",
    "    mlp_no_activation.fit(X_train, y_train)\n",
    "    y_pred_no_activation = mlp_no_activation.predict(X_test)\n",
    "    mae_mlp_no_activation.append(mean_absolute_error(y_test, y_pred_no_activation))\n",
    "    \n",
    "    mlp_relu = MLPRegressor(hidden_layer_sizes=(10, 10), activation='relu', random_state=0)\n",
    "    mlp_relu.fit(X_train, y_train)\n",
    "    y_pred_relu = mlp_relu.predict(X_test)\n",
    "    mae_mlp_relu.append(mean_absolute_error(y_test, y_pred_relu))\n",
    "\n",
    "results = pd.DataFrame({\n",
    "    'Linear Regression': mae_linear,\n",
    "    'MLP No Activation': mae_mlp_no_activation,\n",
    "    'MLP ReLU': mae_mlp_relu\n",
    "})\n",
    "\n",
    "plt.figure(figsize=(10, 6))\n",
    "sns.boxplot(data=results)\n",
    "plt.title('Test MAE Comparison of Different Models')\n",
    "plt.ylabel('Mean Absolute Error')\n",
    "plt.show()\n"
   ]
  },
  {
   "cell_type": "markdown",
   "metadata": {},
   "source": [
    "**6.** [3v] Compare a Linear Regression with a MLP with no activations, and explain the impact and the importance of using activation functions in a MLP. Support your reasoning with the results from the boxplots"
   ]
  },
  {
   "cell_type": "markdown",
   "metadata": {},
   "source": [
    "Uma regressão linear ajusta um único modelo linear aos dados. Também o MLP sem ativação se comporta como um modelo linear, mesmo tendo várias camadas, pois usando a função identidade como ativação cada camada no MLP calcula apenas uma combinação linear dos inputs, levando ao mesmo resultado que a regressão linear. Isto mostra que, sem as funções de ativação, o MLP não está a adicionar complexidade, e é comprovado pelos resultados dos boxplots realizados no exercício anterior, uma vez que nos mesmos tanto a regressão linear como o MLP sem ativação apresentam níveis semelhantes de erro médio absoluto (MAE).\n",
    "\n",
    "As funções de ativação são então importantes para introduzir não linearidade no modelo, possibilitando que aprenda relações mais complexas que os modelos lineares não conseguem captar. O MLP com ativação ReLU aplica então uma transformação não linear em cada camada, introduzindo assim complexidade adicional no modelo o que permite que realize previsões mais precisas. Também a importância das funções de ativação está evidenciada nos resultados dos boxplots, apresentando um erro médio absoluto significativamente mais baixo que a regressão linear e o MLP sem ativação.\n"
   ]
  },
  {
   "cell_type": "markdown",
   "metadata": {},
   "source": [
    "**7.** [4v] Using a 80-20 train-test split with random_state=0, use a Grid Search to tune the hyperparameters of an MLP regressor with two hidden layers (size 10 each). The parameters to search over are:<br>\n",
    "(i) L2 penalty, with the values {0.0001, 0.001, 0.01};  <br>\n",
    "(ii) learning rate, with the values {0.001, 0.01, 0.1}; and <br>\n",
    "(iii) batch size, with the values {32, 64, 128}. Plot the test MAE for each combination of hyperparameters, report the best combination, and discuss the trade-offs between the combinations."
   ]
  },
  {
   "cell_type": "code",
   "execution_count": 16,
   "metadata": {},
   "outputs": [
    {
     "name": "stdout",
     "output_type": "stream",
     "text": [
      "Fitting 5 folds for each of 27 candidates, totalling 135 fits\n",
      "[CV] END alpha=0.0001, batch_size=32, learning_rate_init=0.1; total time=   3.3s\n",
      "[CV] END alpha=0.0001, batch_size=32, learning_rate_init=0.1; total time=   3.9s\n",
      "[CV] END alpha=0.0001, batch_size=32, learning_rate_init=0.1; total time=   4.3s\n",
      "[CV] END alpha=0.0001, batch_size=32, learning_rate_init=0.1; total time=   4.4s\n",
      "[CV] END alpha=0.0001, batch_size=32, learning_rate_init=0.1; total time=   4.5s\n",
      "[CV] END alpha=0.0001, batch_size=32, learning_rate_init=0.01; total time=   6.1s\n",
      "[CV] END alpha=0.0001, batch_size=64, learning_rate_init=0.01; total time=   4.0s\n",
      "[CV] END alpha=0.0001, batch_size=64, learning_rate_init=0.01; total time=   3.1s\n",
      "[CV] END alpha=0.0001, batch_size=32, learning_rate_init=0.01; total time=   7.8s\n",
      "[CV] END alpha=0.0001, batch_size=64, learning_rate_init=0.01; total time=   4.3s\n",
      "[CV] END alpha=0.0001, batch_size=32, learning_rate_init=0.01; total time=   8.6s\n",
      "[CV] END alpha=0.0001, batch_size=64, learning_rate_init=0.1; total time=   1.5s\n",
      "[CV] END alpha=0.0001, batch_size=64, learning_rate_init=0.1; total time=   2.8s\n",
      "[CV] END alpha=0.0001, batch_size=64, learning_rate_init=0.01; total time=   4.5s\n",
      "[CV] END alpha=0.0001, batch_size=64, learning_rate_init=0.1; total time=   2.3s\n",
      "[CV] END alpha=0.0001, batch_size=64, learning_rate_init=0.01; total time=   5.3s\n",
      "[CV] END alpha=0.0001, batch_size=32, learning_rate_init=0.01; total time=  10.4s\n",
      "[CV] END alpha=0.0001, batch_size=64, learning_rate_init=0.1; total time=   3.7s\n",
      "[CV] END alpha=0.0001, batch_size=64, learning_rate_init=0.1; total time=   4.0s\n",
      "[CV] END alpha=0.0001, batch_size=128, learning_rate_init=0.01; total time=   2.9s\n",
      "[CV] END alpha=0.0001, batch_size=128, learning_rate_init=0.01; total time=   2.5s\n",
      "[CV] END alpha=0.0001, batch_size=128, learning_rate_init=0.1; total time=   1.7s\n",
      "[CV] END alpha=0.0001, batch_size=128, learning_rate_init=0.01; total time=   2.2s\n",
      "[CV] END alpha=0.0001, batch_size=128, learning_rate_init=0.01; total time=   3.9s\n",
      "[CV] END alpha=0.0001, batch_size=32, learning_rate_init=0.01; total time=  15.9s\n",
      "[CV] END alpha=0.0001, batch_size=128, learning_rate_init=0.1; total time=   1.4s\n",
      "[CV] END alpha=0.0001, batch_size=128, learning_rate_init=0.01; total time=   3.8s\n",
      "[CV] END alpha=0.0001, batch_size=128, learning_rate_init=0.1; total time=   1.5s\n",
      "[CV] END alpha=0.0001, batch_size=64, learning_rate_init=0.001; total time=  16.4s\n",
      "[CV] END alpha=0.0001, batch_size=64, learning_rate_init=0.001; total time=  16.6s\n",
      "[CV] END alpha=0.0001, batch_size=128, learning_rate_init=0.1; total time=   1.1s\n",
      "[CV] END alpha=0.0001, batch_size=64, learning_rate_init=0.001; total time=  17.1s\n"
     ]
    },
    {
     "name": "stderr",
     "output_type": "stream",
     "text": [
      "/home/leti/.local/lib/python3.10/site-packages/sklearn/neural_network/_multilayer_perceptron.py:690: ConvergenceWarning: Stochastic Optimizer: Maximum iterations (500) reached and the optimization hasn't converged yet.\n",
      "  warnings.warn(\n"
     ]
    },
    {
     "name": "stdout",
     "output_type": "stream",
     "text": [
      "[CV] END alpha=0.0001, batch_size=64, learning_rate_init=0.001; total time=  17.8s\n",
      "[CV] END alpha=0.0001, batch_size=128, learning_rate_init=0.1; total time=   2.6s\n"
     ]
    },
    {
     "name": "stderr",
     "output_type": "stream",
     "text": [
      "/home/leti/.local/lib/python3.10/site-packages/sklearn/neural_network/_multilayer_perceptron.py:690: ConvergenceWarning: Stochastic Optimizer: Maximum iterations (500) reached and the optimization hasn't converged yet.\n",
      "  warnings.warn(\n"
     ]
    },
    {
     "name": "stdout",
     "output_type": "stream",
     "text": [
      "[CV] END alpha=0.0001, batch_size=128, learning_rate_init=0.001; total time=   9.7s\n"
     ]
    },
    {
     "name": "stderr",
     "output_type": "stream",
     "text": [
      "/home/leti/.local/lib/python3.10/site-packages/sklearn/neural_network/_multilayer_perceptron.py:690: ConvergenceWarning: Stochastic Optimizer: Maximum iterations (500) reached and the optimization hasn't converged yet.\n",
      "  warnings.warn(\n"
     ]
    },
    {
     "name": "stdout",
     "output_type": "stream",
     "text": [
      "[CV] END alpha=0.0001, batch_size=128, learning_rate_init=0.001; total time=   9.7s\n"
     ]
    },
    {
     "name": "stderr",
     "output_type": "stream",
     "text": [
      "/home/leti/.local/lib/python3.10/site-packages/sklearn/neural_network/_multilayer_perceptron.py:690: ConvergenceWarning: Stochastic Optimizer: Maximum iterations (500) reached and the optimization hasn't converged yet.\n",
      "  warnings.warn(\n",
      "/home/leti/.local/lib/python3.10/site-packages/sklearn/neural_network/_multilayer_perceptron.py:690: ConvergenceWarning: Stochastic Optimizer: Maximum iterations (500) reached and the optimization hasn't converged yet.\n",
      "  warnings.warn(\n"
     ]
    },
    {
     "name": "stdout",
     "output_type": "stream",
     "text": [
      "[CV] END alpha=0.0001, batch_size=128, learning_rate_init=0.001; total time=   9.8s\n",
      "[CV] END alpha=0.0001, batch_size=128, learning_rate_init=0.001; total time=  10.1s\n"
     ]
    },
    {
     "name": "stderr",
     "output_type": "stream",
     "text": [
      "/home/leti/.local/lib/python3.10/site-packages/sklearn/neural_network/_multilayer_perceptron.py:690: ConvergenceWarning: Stochastic Optimizer: Maximum iterations (500) reached and the optimization hasn't converged yet.\n",
      "  warnings.warn(\n"
     ]
    },
    {
     "name": "stdout",
     "output_type": "stream",
     "text": [
      "[CV] END alpha=0.0001, batch_size=128, learning_rate_init=0.001; total time=  10.0s\n",
      "[CV] END .alpha=0.001, batch_size=32, learning_rate_init=0.1; total time=   2.3s\n",
      "[CV] END alpha=0.0001, batch_size=64, learning_rate_init=0.001; total time=  21.0s\n",
      "[CV] END alpha=0.0001, batch_size=32, learning_rate_init=0.001; total time=  21.0s\n"
     ]
    },
    {
     "name": "stderr",
     "output_type": "stream",
     "text": [
      "/home/leti/.local/lib/python3.10/site-packages/sklearn/neural_network/_multilayer_perceptron.py:690: ConvergenceWarning: Stochastic Optimizer: Maximum iterations (500) reached and the optimization hasn't converged yet.\n",
      "  warnings.warn(\n"
     ]
    },
    {
     "name": "stdout",
     "output_type": "stream",
     "text": [
      "[CV] END .alpha=0.001, batch_size=32, learning_rate_init=0.1; total time=   2.6s\n",
      "[CV] END alpha=0.001, batch_size=32, learning_rate_init=0.01; total time=   4.9s\n",
      "[CV] END alpha=0.001, batch_size=32, learning_rate_init=0.01; total time=   6.4s\n",
      "[CV] END .alpha=0.001, batch_size=32, learning_rate_init=0.1; total time=   4.7s\n",
      "[CV] END .alpha=0.001, batch_size=32, learning_rate_init=0.1; total time=   2.8s\n",
      "[CV] END .alpha=0.001, batch_size=32, learning_rate_init=0.1; total time=   4.8s\n",
      "[CV] END alpha=0.001, batch_size=32, learning_rate_init=0.01; total time=   6.3s\n",
      "[CV] END alpha=0.0001, batch_size=32, learning_rate_init=0.001; total time=  24.8s\n",
      "[CV] END alpha=0.001, batch_size=32, learning_rate_init=0.01; total time=   8.9s\n",
      "[CV] END alpha=0.0001, batch_size=32, learning_rate_init=0.001; total time=  26.3s\n",
      "[CV] END alpha=0.001, batch_size=64, learning_rate_init=0.01; total time=   3.4s\n",
      "[CV] END alpha=0.001, batch_size=32, learning_rate_init=0.01; total time=  10.6s\n",
      "[CV] END .alpha=0.001, batch_size=64, learning_rate_init=0.1; total time=   2.4s\n",
      "[CV] END alpha=0.001, batch_size=64, learning_rate_init=0.01; total time=   4.2s\n",
      "[CV] END .alpha=0.001, batch_size=64, learning_rate_init=0.1; total time=   3.0s\n",
      "[CV] END alpha=0.001, batch_size=64, learning_rate_init=0.01; total time=   6.2s\n",
      "[CV] END alpha=0.001, batch_size=64, learning_rate_init=0.01; total time=   6.7s\n",
      "[CV] END .alpha=0.001, batch_size=64, learning_rate_init=0.1; total time=   1.8s\n",
      "[CV] END alpha=0.001, batch_size=64, learning_rate_init=0.01; total time=   6.8s\n",
      "[CV] END .alpha=0.001, batch_size=64, learning_rate_init=0.1; total time=   2.0s\n",
      "[CV] END alpha=0.0001, batch_size=32, learning_rate_init=0.001; total time=  31.0s\n",
      "[CV] END .alpha=0.001, batch_size=64, learning_rate_init=0.1; total time=   3.3s\n",
      "[CV] END alpha=0.001, batch_size=128, learning_rate_init=0.01; total time=   2.2s\n",
      "[CV] END alpha=0.001, batch_size=128, learning_rate_init=0.01; total time=   2.5s\n",
      "[CV] END alpha=0.001, batch_size=128, learning_rate_init=0.01; total time=   3.4s\n",
      "[CV] END alpha=0.001, batch_size=128, learning_rate_init=0.1; total time=   1.3s\n",
      "[CV] END alpha=0.001, batch_size=128, learning_rate_init=0.01; total time=   3.2s\n",
      "[CV] END alpha=0.001, batch_size=128, learning_rate_init=0.1; total time=   0.8s\n",
      "[CV] END alpha=0.001, batch_size=128, learning_rate_init=0.01; total time=   3.1s\n",
      "[CV] END alpha=0.001, batch_size=128, learning_rate_init=0.1; total time=   1.6s\n",
      "[CV] END alpha=0.001, batch_size=64, learning_rate_init=0.001; total time=  13.5s\n",
      "[CV] END alpha=0.001, batch_size=128, learning_rate_init=0.1; total time=   1.4s\n",
      "[CV] END alpha=0.001, batch_size=128, learning_rate_init=0.1; total time=   2.5s\n"
     ]
    },
    {
     "name": "stderr",
     "output_type": "stream",
     "text": [
      "/home/leti/.local/lib/python3.10/site-packages/sklearn/neural_network/_multilayer_perceptron.py:690: ConvergenceWarning: Stochastic Optimizer: Maximum iterations (500) reached and the optimization hasn't converged yet.\n",
      "  warnings.warn(\n"
     ]
    },
    {
     "name": "stdout",
     "output_type": "stream",
     "text": [
      "[CV] END alpha=0.001, batch_size=64, learning_rate_init=0.001; total time=  17.0s\n"
     ]
    },
    {
     "name": "stderr",
     "output_type": "stream",
     "text": [
      "/home/leti/.local/lib/python3.10/site-packages/sklearn/neural_network/_multilayer_perceptron.py:690: ConvergenceWarning: Stochastic Optimizer: Maximum iterations (500) reached and the optimization hasn't converged yet.\n",
      "  warnings.warn(\n"
     ]
    },
    {
     "name": "stdout",
     "output_type": "stream",
     "text": [
      "[CV] END alpha=0.001, batch_size=128, learning_rate_init=0.001; total time=   9.9s\n"
     ]
    },
    {
     "name": "stderr",
     "output_type": "stream",
     "text": [
      "/home/leti/.local/lib/python3.10/site-packages/sklearn/neural_network/_multilayer_perceptron.py:690: ConvergenceWarning: Stochastic Optimizer: Maximum iterations (500) reached and the optimization hasn't converged yet.\n",
      "  warnings.warn(\n",
      "/home/leti/.local/lib/python3.10/site-packages/sklearn/neural_network/_multilayer_perceptron.py:690: ConvergenceWarning: Stochastic Optimizer: Maximum iterations (500) reached and the optimization hasn't converged yet.\n",
      "  warnings.warn(\n",
      "/home/leti/.local/lib/python3.10/site-packages/sklearn/neural_network/_multilayer_perceptron.py:690: ConvergenceWarning: Stochastic Optimizer: Maximum iterations (500) reached and the optimization hasn't converged yet.\n",
      "  warnings.warn(\n"
     ]
    },
    {
     "name": "stdout",
     "output_type": "stream",
     "text": [
      "[CV] END alpha=0.0001, batch_size=32, learning_rate_init=0.001; total time=  39.3s\n",
      "[CV] END alpha=0.001, batch_size=64, learning_rate_init=0.001; total time=  17.1s\n",
      "[CV] END alpha=0.001, batch_size=128, learning_rate_init=0.001; total time=   9.6s\n"
     ]
    },
    {
     "name": "stderr",
     "output_type": "stream",
     "text": [
      "/home/leti/.local/lib/python3.10/site-packages/sklearn/neural_network/_multilayer_perceptron.py:690: ConvergenceWarning: Stochastic Optimizer: Maximum iterations (500) reached and the optimization hasn't converged yet.\n",
      "  warnings.warn(\n"
     ]
    },
    {
     "name": "stdout",
     "output_type": "stream",
     "text": [
      "[CV] END alpha=0.001, batch_size=128, learning_rate_init=0.001; total time=  10.0s\n"
     ]
    },
    {
     "name": "stderr",
     "output_type": "stream",
     "text": [
      "/home/leti/.local/lib/python3.10/site-packages/sklearn/neural_network/_multilayer_perceptron.py:690: ConvergenceWarning: Stochastic Optimizer: Maximum iterations (500) reached and the optimization hasn't converged yet.\n",
      "  warnings.warn(\n"
     ]
    },
    {
     "name": "stdout",
     "output_type": "stream",
     "text": [
      "[CV] END alpha=0.001, batch_size=128, learning_rate_init=0.001; total time=  11.6s\n"
     ]
    },
    {
     "name": "stderr",
     "output_type": "stream",
     "text": [
      "/home/leti/.local/lib/python3.10/site-packages/sklearn/neural_network/_multilayer_perceptron.py:690: ConvergenceWarning: Stochastic Optimizer: Maximum iterations (500) reached and the optimization hasn't converged yet.\n",
      "  warnings.warn(\n"
     ]
    },
    {
     "name": "stdout",
     "output_type": "stream",
     "text": [
      "[CV] END alpha=0.001, batch_size=64, learning_rate_init=0.001; total time=  20.7s\n"
     ]
    },
    {
     "name": "stderr",
     "output_type": "stream",
     "text": [
      "/home/leti/.local/lib/python3.10/site-packages/sklearn/neural_network/_multilayer_perceptron.py:690: ConvergenceWarning: Stochastic Optimizer: Maximum iterations (500) reached and the optimization hasn't converged yet.\n",
      "  warnings.warn(\n"
     ]
    },
    {
     "name": "stdout",
     "output_type": "stream",
     "text": [
      "[CV] END alpha=0.001, batch_size=128, learning_rate_init=0.001; total time=  11.6s\n",
      "[CV] END alpha=0.001, batch_size=64, learning_rate_init=0.001; total time=  19.6s\n",
      "[CV] END alpha=0.001, batch_size=32, learning_rate_init=0.001; total time=  27.7s\n",
      "[CV] END ..alpha=0.01, batch_size=32, learning_rate_init=0.1; total time=   3.8s\n",
      "[CV] END alpha=0.001, batch_size=32, learning_rate_init=0.001; total time=  28.4s\n",
      "[CV] END ..alpha=0.01, batch_size=32, learning_rate_init=0.1; total time=   4.5s\n",
      "[CV] END ..alpha=0.01, batch_size=32, learning_rate_init=0.1; total time=   3.6s\n",
      "[CV] END ..alpha=0.01, batch_size=32, learning_rate_init=0.1; total time=   2.7s\n",
      "[CV] END .alpha=0.01, batch_size=32, learning_rate_init=0.01; total time=   7.1s\n",
      "[CV] END ..alpha=0.01, batch_size=32, learning_rate_init=0.1; total time=   4.7s\n",
      "[CV] END alpha=0.001, batch_size=32, learning_rate_init=0.001; total time=  30.2s\n",
      "[CV] END .alpha=0.01, batch_size=32, learning_rate_init=0.01; total time=   8.9s\n",
      "[CV] END alpha=0.001, batch_size=32, learning_rate_init=0.001; total time=  30.7s\n",
      "[CV] END alpha=0.001, batch_size=32, learning_rate_init=0.001; total time=  31.2s\n",
      "[CV] END .alpha=0.01, batch_size=32, learning_rate_init=0.01; total time=   7.8s\n"
     ]
    },
    {
     "name": "stderr",
     "output_type": "stream",
     "text": [
      "/home/leti/.local/lib/python3.10/site-packages/sklearn/neural_network/_multilayer_perceptron.py:690: ConvergenceWarning: Stochastic Optimizer: Maximum iterations (500) reached and the optimization hasn't converged yet.\n",
      "  warnings.warn(\n"
     ]
    },
    {
     "name": "stdout",
     "output_type": "stream",
     "text": [
      "[CV] END .alpha=0.01, batch_size=32, learning_rate_init=0.01; total time=   9.2s\n",
      "[CV] END ..alpha=0.01, batch_size=64, learning_rate_init=0.1; total time=   2.5s\n",
      "[CV] END .alpha=0.01, batch_size=32, learning_rate_init=0.01; total time=  10.6s\n",
      "[CV] END ..alpha=0.01, batch_size=64, learning_rate_init=0.1; total time=   2.9s\n",
      "[CV] END ..alpha=0.01, batch_size=64, learning_rate_init=0.1; total time=   2.7s\n",
      "[CV] END ..alpha=0.01, batch_size=64, learning_rate_init=0.1; total time=   4.2s\n",
      "[CV] END ..alpha=0.01, batch_size=64, learning_rate_init=0.1; total time=   2.4s\n",
      "[CV] END .alpha=0.01, batch_size=64, learning_rate_init=0.01; total time=   6.4s\n",
      "[CV] END .alpha=0.01, batch_size=64, learning_rate_init=0.01; total time=   6.0s\n",
      "[CV] END .alpha=0.01, batch_size=64, learning_rate_init=0.01; total time=   7.9s\n",
      "[CV] END .alpha=0.01, batch_size=64, learning_rate_init=0.01; total time=   6.9s\n",
      "[CV] END alpha=0.01, batch_size=128, learning_rate_init=0.01; total time=   2.6s\n",
      "[CV] END .alpha=0.01, batch_size=64, learning_rate_init=0.01; total time=   8.7s\n",
      "[CV] END alpha=0.01, batch_size=128, learning_rate_init=0.01; total time=   3.1s\n",
      "[CV] END .alpha=0.01, batch_size=128, learning_rate_init=0.1; total time=   2.9s\n",
      "[CV] END .alpha=0.01, batch_size=128, learning_rate_init=0.1; total time=   2.8s\n",
      "[CV] END alpha=0.01, batch_size=128, learning_rate_init=0.01; total time=   3.4s\n",
      "[CV] END alpha=0.01, batch_size=128, learning_rate_init=0.01; total time=   6.3s\n",
      "[CV] END alpha=0.01, batch_size=128, learning_rate_init=0.01; total time=   6.7s\n",
      "[CV] END .alpha=0.01, batch_size=128, learning_rate_init=0.1; total time=   1.9s\n",
      "[CV] END .alpha=0.01, batch_size=128, learning_rate_init=0.1; total time=   1.9s\n",
      "[CV] END alpha=0.01, batch_size=32, learning_rate_init=0.001; total time=  25.3s\n"
     ]
    },
    {
     "name": "stderr",
     "output_type": "stream",
     "text": [
      "/home/leti/.local/lib/python3.10/site-packages/sklearn/neural_network/_multilayer_perceptron.py:690: ConvergenceWarning: Stochastic Optimizer: Maximum iterations (500) reached and the optimization hasn't converged yet.\n",
      "  warnings.warn(\n",
      "/home/leti/.local/lib/python3.10/site-packages/sklearn/neural_network/_multilayer_perceptron.py:690: ConvergenceWarning: Stochastic Optimizer: Maximum iterations (500) reached and the optimization hasn't converged yet.\n",
      "  warnings.warn(\n"
     ]
    },
    {
     "name": "stdout",
     "output_type": "stream",
     "text": [
      "[CV] END alpha=0.01, batch_size=128, learning_rate_init=0.001; total time=  11.4s\n",
      "[CV] END alpha=0.01, batch_size=128, learning_rate_init=0.001; total time=  11.4s\n"
     ]
    },
    {
     "name": "stderr",
     "output_type": "stream",
     "text": [
      "/home/leti/.local/lib/python3.10/site-packages/sklearn/neural_network/_multilayer_perceptron.py:690: ConvergenceWarning: Stochastic Optimizer: Maximum iterations (500) reached and the optimization hasn't converged yet.\n",
      "  warnings.warn(\n",
      "/home/leti/.local/lib/python3.10/site-packages/sklearn/neural_network/_multilayer_perceptron.py:690: ConvergenceWarning: Stochastic Optimizer: Maximum iterations (500) reached and the optimization hasn't converged yet.\n",
      "  warnings.warn(\n"
     ]
    },
    {
     "name": "stdout",
     "output_type": "stream",
     "text": [
      "[CV] END alpha=0.01, batch_size=128, learning_rate_init=0.001; total time=  10.8s\n",
      "[CV] END alpha=0.01, batch_size=64, learning_rate_init=0.001; total time=  18.6s\n",
      "[CV] END .alpha=0.01, batch_size=128, learning_rate_init=0.1; total time=   3.9s\n"
     ]
    },
    {
     "name": "stderr",
     "output_type": "stream",
     "text": [
      "/home/leti/.local/lib/python3.10/site-packages/sklearn/neural_network/_multilayer_perceptron.py:690: ConvergenceWarning: Stochastic Optimizer: Maximum iterations (500) reached and the optimization hasn't converged yet.\n",
      "  warnings.warn(\n",
      "/home/leti/.local/lib/python3.10/site-packages/sklearn/neural_network/_multilayer_perceptron.py:690: ConvergenceWarning: Stochastic Optimizer: Maximum iterations (500) reached and the optimization hasn't converged yet.\n",
      "  warnings.warn(\n"
     ]
    },
    {
     "name": "stdout",
     "output_type": "stream",
     "text": [
      "[CV] END alpha=0.01, batch_size=128, learning_rate_init=0.001; total time=  10.7s\n",
      "[CV] END alpha=0.01, batch_size=64, learning_rate_init=0.001; total time=  18.7s\n",
      "[CV] END alpha=0.01, batch_size=64, learning_rate_init=0.001; total time=  17.7s\n"
     ]
    },
    {
     "name": "stderr",
     "output_type": "stream",
     "text": [
      "/home/leti/.local/lib/python3.10/site-packages/sklearn/neural_network/_multilayer_perceptron.py:690: ConvergenceWarning: Stochastic Optimizer: Maximum iterations (500) reached and the optimization hasn't converged yet.\n",
      "  warnings.warn(\n"
     ]
    },
    {
     "name": "stdout",
     "output_type": "stream",
     "text": [
      "[CV] END alpha=0.01, batch_size=128, learning_rate_init=0.001; total time=  12.2s\n"
     ]
    },
    {
     "name": "stderr",
     "output_type": "stream",
     "text": [
      "/home/leti/.local/lib/python3.10/site-packages/sklearn/neural_network/_multilayer_perceptron.py:690: ConvergenceWarning: Stochastic Optimizer: Maximum iterations (500) reached and the optimization hasn't converged yet.\n",
      "  warnings.warn(\n"
     ]
    },
    {
     "name": "stdout",
     "output_type": "stream",
     "text": [
      "[CV] END alpha=0.01, batch_size=64, learning_rate_init=0.001; total time=  18.5s\n"
     ]
    },
    {
     "name": "stderr",
     "output_type": "stream",
     "text": [
      "/home/leti/.local/lib/python3.10/site-packages/sklearn/neural_network/_multilayer_perceptron.py:690: ConvergenceWarning: Stochastic Optimizer: Maximum iterations (500) reached and the optimization hasn't converged yet.\n",
      "  warnings.warn(\n"
     ]
    },
    {
     "name": "stdout",
     "output_type": "stream",
     "text": [
      "[CV] END alpha=0.01, batch_size=64, learning_rate_init=0.001; total time=  19.6s\n",
      "[CV] END alpha=0.01, batch_size=32, learning_rate_init=0.001; total time=  28.7s\n"
     ]
    },
    {
     "name": "stderr",
     "output_type": "stream",
     "text": [
      "/home/leti/.local/lib/python3.10/site-packages/sklearn/neural_network/_multilayer_perceptron.py:690: ConvergenceWarning: Stochastic Optimizer: Maximum iterations (500) reached and the optimization hasn't converged yet.\n",
      "  warnings.warn(\n"
     ]
    },
    {
     "name": "stdout",
     "output_type": "stream",
     "text": [
      "[CV] END alpha=0.01, batch_size=32, learning_rate_init=0.001; total time=  29.2s\n"
     ]
    },
    {
     "name": "stderr",
     "output_type": "stream",
     "text": [
      "/home/leti/.local/lib/python3.10/site-packages/sklearn/neural_network/_multilayer_perceptron.py:690: ConvergenceWarning: Stochastic Optimizer: Maximum iterations (500) reached and the optimization hasn't converged yet.\n",
      "  warnings.warn(\n",
      "/home/leti/.local/lib/python3.10/site-packages/sklearn/neural_network/_multilayer_perceptron.py:690: ConvergenceWarning: Stochastic Optimizer: Maximum iterations (500) reached and the optimization hasn't converged yet.\n",
      "  warnings.warn(\n"
     ]
    },
    {
     "name": "stdout",
     "output_type": "stream",
     "text": [
      "[CV] END alpha=0.01, batch_size=32, learning_rate_init=0.001; total time=  28.9s\n",
      "[CV] END alpha=0.01, batch_size=32, learning_rate_init=0.001; total time=  28.7s\n",
      "Best Hyperparameters: {'alpha': 0.001, 'batch_size': 32, 'learning_rate_init': 0.001}\n",
      "Best Cross-Validation MAE: 4.544115093964946\n",
      "Test MAE with Best Hyperparameters: 4.335753926547961\n"
     ]
    },
    {
     "data": {
      "image/png": "[encoded data removed]",
      "text/plain": [
       "<Figure size 1200x600 with 2 Axes>"
      ]
     },
     "metadata": {},
     "output_type": "display_data"
    }
   ],
   "source": [
    "import pandas as pd\n",
    "from sklearn.model_selection import train_test_split, GridSearchCV\n",
    "from sklearn.neural_network import MLPRegressor\n",
    "from sklearn.metrics import make_scorer, mean_absolute_error\n",
    "import matplotlib.pyplot as plt\n",
    "import seaborn as sns\n",
    "\n",
    "data = pd.read_csv('parkinsons.csv') \n",
    "\n",
    "X = data.drop(columns=['target']) \n",
    "y = data['target']\n",
    "\n",
    "X_train, X_test, y_train, y_test = train_test_split(X, y, test_size=0.2, random_state=0)\n",
    "\n",
    "mlp = MLPRegressor(hidden_layer_sizes=(10, 10), random_state=0)\n",
    "\n",
    "param_grid = {\n",
    "    'alpha': [0.0001, 0.001, 0.01],  # L2 penalty\n",
    "    'learning_rate_init': [0.001, 0.01, 0.1],  # Initial learning rate\n",
    "    'batch_size': [32, 64, 128]  # Batch size\n",
    "}\n",
    "\n",
    "scorer = make_scorer(mean_absolute_error, greater_is_better=False)\n",
    "\n",
    "grid_search = GridSearchCV(mlp, param_grid, scoring=scorer, cv=5, verbose=2, n_jobs=-1)\n",
    "\n",
    "grid_search.fit(X_train, y_train)\n",
    "\n",
    "best_params = grid_search.best_params_\n",
    "best_score = -grid_search.best_score_  # Since we're minimizing MAE, we negate the negative score\n",
    "\n",
    "print(\"Best Hyperparameters:\", best_params)\n",
    "print(\"Best Cross-Validation MAE:\", best_score)\n",
    "\n",
    "y_pred = grid_search.best_estimator_.predict(X_test)\n",
    "test_mae = mean_absolute_error(y_test, y_pred)\n",
    "print(\"Test MAE with Best Hyperparameters:\", test_mae)\n",
    "\n",
    "results = pd.DataFrame(grid_search.cv_results_)\n",
    "\n",
    "plt.figure(figsize=(12, 6))\n",
    "sns.heatmap(results.pivot_table(values='mean_test_score', index='param_batch_size', columns='param_learning_rate_init'),\n",
    "            annot=True, fmt='.4f', cmap='viridis', linewidths=0.5)\n",
    "plt.title('Grid Search Results: Test MAE for Each Combination of Hyperparameters')\n",
    "plt.xlabel('Learning Rate')\n",
    "plt.ylabel('Batch Size')\n",
    "plt.show()\n"
   ]
  },
  {
   "cell_type": "markdown",
   "metadata": {},
   "source": [
    "Explanation of the Code:\n",
    "Hyperparameter Grid:\n",
    "\n",
    "alpha: L2 regularization (or penalty) that controls overfitting. Lower values allow more complexity, while higher values impose a stronger regularization.\n",
    "learning_rate_init: Initial learning rate for the MLP optimizer. It controls how large the steps are during the optimization process. Too high of a value can cause the model to miss the optimal solution, while too small of a value may cause slow learning.\n",
    "batch_size: Number of samples processed before the model is updated. Smaller batch sizes lead to noisier but more frequent updates, while larger batch sizes provide more stable updates but slower learning.\n",
    "Grid Search: We use GridSearchCV with 5-fold cross-validation to evaluate all possible combinations of hyperparameters.\n",
    "\n",
    "Plotting: We use a heatmap to visualize the mean cross-validation MAE for each combination of learning_rate_init and batch_size.\n",
    "\n",
    "Results and Trade-offs:\n",
    "Best Hyperparameters: After the grid search, the best combination of hyperparameters is reported, and the model is evaluated on the test set to determine the final MAE.\n",
    "\n",
    "Trade-offs:\n",
    "\n",
    "L2 Penalty (alpha): A higher L2 penalty reduces overfitting but may underfit the data if it's too strong.\n",
    "Learning Rate: A small learning rate can lead to slow convergence, while a high learning rate can lead to divergence. The ideal learning rate finds the right balance between fast learning and stable convergence.\n",
    "Batch Size: Smaller batches can lead to more noisy updates but allow the model to learn faster. Larger batches provide more stability but may slow down learning.\n",
    "In the plot, the heatmap will visually show how different combinations of hyperparameters affect the test MAE, allowing you to compare their trade-offs."
   ]
  }
 ],
 "metadata": {
  "kernelspec": {
   "display_name": "Python 3",
   "language": "python",
   "name": "python3"
  },
  "language_info": {
   "codemirror_mode": {
    "name": "ipython",
    "version": 3
   },
   "file_extension": ".py",
   "mimetype": "text/x-python",
   "name": "python",
   "nbconvert_exporter": "python",
   "pygments_lexer": "ipython3",
   "version": "3.10.12"
  }
 },
 "nbformat": 4,
 "nbformat_minor": 2
}
